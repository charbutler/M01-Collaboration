{
 "cells": [
  {
   "cell_type": "code",
   "execution_count": 5,
   "id": "85523dcd-a8af-424e-b1b1-ba4b06357d2d",
   "metadata": {},
   "outputs": [
    {
     "name": "stdout",
     "output_type": "stream",
     "text": [
      "car\n",
      "2022\n",
      "Toyota\n",
      "Corolla\n",
      "4\n",
      "sun roof\n"
     ]
    }
   ],
   "source": [
    "class Vehicle:\n",
    "    def __init__(self, vehicle_type):\n",
    "        self.vehicle_type = vehicle_type\n",
    "\n",
    "class Automobile(Vehicle):\n",
    "    def __init__(self, vehicle_type, year, make, model, doors, roof):\n",
    "        super().__init__(vehicle_type)\n",
    "        self.year = year\n",
    "        self.make = make\n",
    "        self.model = model\n",
    "        self.doors = doors\n",
    "        self.roof = roof\n",
    "            \n",
    "car = Automobile(\"car\", \"2022\", \"Toyota\", \"Corolla\", \"4\", \"sun roof\")\n",
    "print(car.vehicle_type)\n",
    "print(car.year)\n",
    "print(car.make)\n",
    "print(car.model)\n",
    "print(car.doors)\n",
    "print(car.roof)"
   ]
  },
  {
   "cell_type": "code",
   "execution_count": null,
   "id": "5f3170e5-2e9c-4704-96ce-a89ef2a9c4e3",
   "metadata": {},
   "outputs": [],
   "source": []
  }
 ],
 "metadata": {
  "kernelspec": {
   "display_name": "anaconda-panel-2023.05-py310",
   "language": "python",
   "name": "conda-env-anaconda-panel-2023.05-py310-py"
  },
  "language_info": {
   "codemirror_mode": {
    "name": "ipython",
    "version": 3
   },
   "file_extension": ".py",
   "mimetype": "text/x-python",
   "name": "python",
   "nbconvert_exporter": "python",
   "pygments_lexer": "ipython3",
   "version": "3.11.5"
  }
 },
 "nbformat": 4,
 "nbformat_minor": 5
}

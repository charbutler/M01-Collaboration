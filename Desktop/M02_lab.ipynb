{
 "cells": [
  {
   "cell_type": "code",
   "execution_count": null,
   "id": "014523f3-7734-40f3-8eba-866eb49eaaa4",
   "metadata": {},
   "outputs": [],
   "source": [
    "#Charlotte Butler\n",
    "#M02 Lab\n",
    "#This is an app that retrieves GPAs of students by accpeting their last name and tells them if the qualify for the Dean's List or Honor roll.\n",
    "\n",
    "def main():\n",
    "    student_records = []\n",
    "    \n",
    "    while True:\n",
    "        last_name = input(\"Please enter the student's last name or ZZZ to quit: \")\n",
    "        if last_name == 'ZZZ':\n",
    "            break\n",
    "            \n",
    "        first_name = input(\"Please enter the student's first name: \")\n",
    "        \n",
    "        gpa = float(input(\"Please enter the student's GPA: \"))\n",
    "        \n",
    "        Srecord = {'last_name': last_name, 'first_name': first_name, 'gpa': gpa}\n",
    "                   \n",
    "        student_records.append(Srecord)\n",
    "        \n",
    "        if gpa >= 3.5:\n",
    "            print(f\"{first_name} {last_name} has made the Dean's List.\")\n",
    "        elif gpa >= 3.25:\n",
    "            print(f\"{first_name} {last_name} has made the Honor Roll.\")\n",
    "        else:\n",
    "            print(f\"{first_name} {last_name} has not made the Dean's List or Honor Roll.\")\n",
    "            \n",
    "    print(\"\\nStudent Records:\")\n",
    "    for Srecord in student_records:\n",
    "        print(f\"{Srecord['first_name']} {Srecord['last_name']}: {Srecord['gpa']}\")\n",
    "    \n",
    "\n",
    "if __name__ == '__main__':\n",
    "    main()"
   ]
  },
  {
   "cell_type": "code",
   "execution_count": null,
   "id": "17039308-300c-4974-9f8d-f977fd42a105",
   "metadata": {},
   "outputs": [],
   "source": []
  }
 ],
 "metadata": {
  "kernelspec": {
   "display_name": "anaconda-panel-2023.05-py310",
   "language": "python",
   "name": "conda-env-anaconda-panel-2023.05-py310-py"
  },
  "language_info": {
   "codemirror_mode": {
    "name": "ipython",
    "version": 3
   },
   "file_extension": ".py",
   "mimetype": "text/x-python",
   "name": "python",
   "nbconvert_exporter": "python",
   "pygments_lexer": "ipython3",
   "version": "3.11.5"
  }
 },
 "nbformat": 4,
 "nbformat_minor": 5
}

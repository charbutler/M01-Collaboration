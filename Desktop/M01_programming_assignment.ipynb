{
 "cells": [
  {
   "cell_type": "code",
   "execution_count": 18,
   "id": "eccd6523-0d09-46c3-9c96-1f359f82add3",
   "metadata": {},
   "outputs": [
    {
     "name": "stdout",
     "output_type": "stream",
     "text": [
      "Number of seconds in an hour =  3600\n"
     ]
    }
   ],
   "source": [
    "sec = 60\n",
    "min = 1 * sec\n",
    "seconds_per_hour = 60 * min\n",
    "\n",
    "print(\"Number of seconds in an hour = \", hour)"
   ]
  },
  {
   "cell_type": "code",
   "execution_count": 20,
   "id": "3f272777-7542-45da-adc8-ed1c4f387f1c",
   "metadata": {},
   "outputs": [
    {
     "name": "stdout",
     "output_type": "stream",
     "text": [
      "Number of seconds in a day =  86400\n"
     ]
    }
   ],
   "source": [
    "seconds_per_hour = 3600\n",
    "seconds_per_day = 3600 * 24\n",
    "\n",
    "print(\"Number of seconds in a day = \", seconds_per_day)"
   ]
  },
  {
   "cell_type": "code",
   "execution_count": 22,
   "id": "211c680d-81dc-4a9f-b1f7-ac513c446e1a",
   "metadata": {},
   "outputs": [
    {
     "data": {
      "text/plain": [
       "86400.0"
      ]
     },
     "execution_count": 22,
     "metadata": {},
     "output_type": "execute_result"
    }
   ],
   "source": [
    "float(seconds_per_day)"
   ]
  },
  {
   "cell_type": "code",
   "execution_count": 24,
   "id": "2fcc9b88-5cd1-4de6-9e70-a15d9ec1a73d",
   "metadata": {},
   "outputs": [
    {
     "data": {
      "text/plain": [
       "3600.0"
      ]
     },
     "execution_count": 24,
     "metadata": {},
     "output_type": "execute_result"
    }
   ],
   "source": [
    "float(seconds_per_hour)"
   ]
  },
  {
   "cell_type": "code",
   "execution_count": 26,
   "id": "55f565f1-6044-4c83-b505-a448d6d023c4",
   "metadata": {},
   "outputs": [
    {
     "data": {
      "text/plain": [
       "24.0"
      ]
     },
     "execution_count": 26,
     "metadata": {},
     "output_type": "execute_result"
    }
   ],
   "source": [
    "seconds_per_day / seconds_per_hour"
   ]
  },
  {
   "cell_type": "code",
   "execution_count": 28,
   "id": "d25ea0a7-10c1-4fd4-a839-e438652c13d4",
   "metadata": {},
   "outputs": [
    {
     "data": {
      "text/plain": [
       "24.0"
      ]
     },
     "execution_count": 28,
     "metadata": {},
     "output_type": "execute_result"
    }
   ],
   "source": [
    "float(24.0)"
   ]
  },
  {
   "cell_type": "code",
   "execution_count": 30,
   "id": "adb63d0e-9328-4682-9292-0ac658368421",
   "metadata": {},
   "outputs": [
    {
     "data": {
      "text/plain": [
       "24"
      ]
     },
     "execution_count": 30,
     "metadata": {},
     "output_type": "execute_result"
    }
   ],
   "source": [
    "int(24.0)"
   ]
  },
  {
   "cell_type": "code",
   "execution_count": null,
   "id": "2c68d520-9eee-4236-b12b-253eb8354181",
   "metadata": {},
   "outputs": [],
   "source": []
  }
 ],
 "metadata": {
  "kernelspec": {
   "display_name": "anaconda-panel-2023.05-py310",
   "language": "python",
   "name": "conda-env-anaconda-panel-2023.05-py310-py"
  },
  "language_info": {
   "codemirror_mode": {
    "name": "ipython",
    "version": 3
   },
   "file_extension": ".py",
   "mimetype": "text/x-python",
   "name": "python",
   "nbconvert_exporter": "python",
   "pygments_lexer": "ipython3",
   "version": "3.11.5"
  }
 },
 "nbformat": 4,
 "nbformat_minor": 5
}

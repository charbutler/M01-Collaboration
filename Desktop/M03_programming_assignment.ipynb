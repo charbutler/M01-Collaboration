{
 "cells": [
  {
   "cell_type": "code",
   "execution_count": 6,
   "id": "e6bec78e-b5c8-4d5d-b695-008487af5477",
   "metadata": {},
   "outputs": [],
   "source": [
    "birth_year = 1996\n",
    "\n",
    "years_list = [birth_year + i for i in range(6)]\n",
    "\n",
    "years_list = [birth_year, birth_year +1, birth_year + 2, birth_year + 3, birth_year + 4, birth_year + 5]\n"
   ]
  },
  {
   "cell_type": "code",
   "execution_count": 8,
   "id": "918f7293-79d0-4c3a-9e6e-a2b031e9ee5a",
   "metadata": {},
   "outputs": [
    {
     "data": {
      "text/plain": [
       "1999"
      ]
     },
     "execution_count": 8,
     "metadata": {},
     "output_type": "execute_result"
    }
   ],
   "source": [
    "1999"
   ]
  },
  {
   "cell_type": "code",
   "execution_count": 10,
   "id": "570ff0b8-d5e6-4b5e-89e8-02c2aed3e89a",
   "metadata": {},
   "outputs": [
    {
     "data": {
      "text/plain": [
       "20001"
      ]
     },
     "execution_count": 10,
     "metadata": {},
     "output_type": "execute_result"
    }
   ],
   "source": [
    "20001"
   ]
  },
  {
   "cell_type": "code",
   "execution_count": 12,
   "id": "d4938dc2-82cc-44d0-b19e-9af53a11fb75",
   "metadata": {},
   "outputs": [],
   "source": [
    "things = [\"mozzarella\", \"cinderella\", \"salmonella\"]"
   ]
  },
  {
   "cell_type": "code",
   "execution_count": 14,
   "id": "47f0e52c-9ab4-4fee-ac70-ccf69177b620",
   "metadata": {},
   "outputs": [
    {
     "name": "stdout",
     "output_type": "stream",
     "text": [
      "['mozzarella', 'Cinderella', 'salmonella']\n"
     ]
    }
   ],
   "source": [
    "things[1]=things[1].capitalize()\n",
    "print(things)"
   ]
  },
  {
   "cell_type": "code",
   "execution_count": 16,
   "id": "1301f817-c9cf-416c-96c4-17d892812582",
   "metadata": {},
   "outputs": [
    {
     "name": "stdout",
     "output_type": "stream",
     "text": [
      "['MOZZARELLA', 'Cinderella', 'salmonella']\n"
     ]
    }
   ],
   "source": [
    "things[0]=things[0].upper()\n",
    "print(things)"
   ]
  },
  {
   "cell_type": "code",
   "execution_count": 18,
   "id": "ec2686e8-4dee-4cd7-a7f0-404bfd89e06d",
   "metadata": {},
   "outputs": [
    {
     "name": "stdout",
     "output_type": "stream",
     "text": [
      "['MOZZARELLA', 'Cinderella']\n"
     ]
    }
   ],
   "source": [
    "del things[2]\n",
    "print(things)"
   ]
  },
  {
   "cell_type": "code",
   "execution_count": 20,
   "id": "326a5377-a870-4384-aaea-a84ada554703",
   "metadata": {},
   "outputs": [],
   "source": [
    "def good():\n",
    "    return [\"Harry\", \"Ron\", \"Hermione\"]\n"
   ]
  },
  {
   "cell_type": "code",
   "execution_count": 22,
   "id": "e4bcf0a6-3597-432b-a894-2dc963e63b4e",
   "metadata": {},
   "outputs": [],
   "source": [
    "def get_odds():\n",
    "    for number in range(10):\n",
    "        if number % 2 !=0:\n",
    "            yield number\n",
    "    \n",
    "    odds = get_odds\n",
    "    third_odd = next(odds)\n",
    "    third_odd = next(odds)\n",
    "    third_odd = next(odds)\n",
    "    \n",
    "    print(third_odd)"
   ]
  },
  {
   "cell_type": "code",
   "execution_count": null,
   "id": "db71bd2c-dae2-4abf-9f94-7d5eec3b4ebf",
   "metadata": {},
   "outputs": [],
   "source": []
  }
 ],
 "metadata": {
  "kernelspec": {
   "display_name": "anaconda-panel-2023.05-py310",
   "language": "python",
   "name": "conda-env-anaconda-panel-2023.05-py310-py"
  },
  "language_info": {
   "codemirror_mode": {
    "name": "ipython",
    "version": 3
   },
   "file_extension": ".py",
   "mimetype": "text/x-python",
   "name": "python",
   "nbconvert_exporter": "python",
   "pygments_lexer": "ipython3",
   "version": "3.11.5"
  }
 },
 "nbformat": 4,
 "nbformat_minor": 5
}

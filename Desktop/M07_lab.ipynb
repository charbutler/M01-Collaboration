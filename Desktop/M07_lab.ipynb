{
 "cells": [
  {
   "cell_type": "code",
   "execution_count": null,
   "id": "dae79588-ef7e-4d0d-bc83-cf7b8b31a072",
   "metadata": {},
   "outputs": [],
   "source": [
    "pip install pandas\n",
    "import pandas as pd"
   ]
  },
  {
   "cell_type": "code",
   "execution_count": null,
   "id": "b7405ce2-11d5-4b59-8fe7-306c946d24ff",
   "metadata": {},
   "outputs": [],
   "source": [
    "pd."
   ]
  },
  {
   "cell_type": "code",
   "execution_count": null,
   "id": "ef21636e-1124-4281-98de-6b185eee9396",
   "metadata": {},
   "outputs": [],
   "source": [
    "df = pd.read_csv('telco_churn.csv')"
   ]
  },
  {
   "cell_type": "code",
   "execution_count": null,
   "id": "499d1943-8c56-4d2d-ad76-e068c7d37cee",
   "metadata": {},
   "outputs": [],
   "source": [
    "df.head(10)"
   ]
  },
  {
   "cell_type": "code",
   "execution_count": null,
   "id": "4e8c88de-e5de-4838-9f0b-09905ac71b99",
   "metadata": {},
   "outputs": [],
   "source": [
    "tempdict = {'col1':[1,2,3], 'col2':[4,5,6], 'col3':[7,8,9]}"
   ]
  },
  {
   "cell_type": "code",
   "execution_count": null,
   "id": "71396b43-d282-470a-aee3-7480fecc8b87",
   "metadata": {},
   "outputs": [],
   "source": [
    "dictdf = pd.DataFrame.from_dict(temptdict)"
   ]
  },
  {
   "cell_type": "code",
   "execution_count": null,
   "id": "40c197c2-c2bd-405b-b7d4-a7a8c94784fa",
   "metadata": {},
   "outputs": [],
   "source": [
    "dictdf.head()"
   ]
  },
  {
   "cell_type": "code",
   "execution_count": null,
   "id": "015e7148-616d-4d6c-96a9-33da83b596ea",
   "metadata": {},
   "outputs": [],
   "source": [
    "df.tail(15)"
   ]
  },
  {
   "cell_type": "code",
   "execution_count": null,
   "id": "b8095480-b68c-4b73-8b6f-09a4dd867227",
   "metadata": {},
   "outputs": [],
   "source": [
    "df.columns"
   ]
  },
  {
   "cell_type": "code",
   "execution_count": null,
   "id": "6235213b-df94-4c44-bd40-77168e5cfb5a",
   "metadata": {},
   "outputs": [],
   "source": [
    "df.dtypes"
   ]
  },
  {
   "cell_type": "code",
   "execution_count": null,
   "id": "4e81fd0e-1829-4cf5-979b-54d227f777ca",
   "metadata": {},
   "outputs": [],
   "source": [
    "df.describe()"
   ]
  },
  {
   "cell_type": "code",
   "execution_count": null,
   "id": "589085ea-62a2-4dd2-88a5-7513e11c7cc6",
   "metadata": {},
   "outputs": [],
   "source": [
    "df.decribe(include = 'object')"
   ]
  },
  {
   "cell_type": "code",
   "execution_count": null,
   "id": "2f5547fc-48f7-448e-aa15-954d7026007f",
   "metadata": {},
   "outputs": [],
   "source": [
    "df.Sate"
   ]
  },
  {
   "cell_type": "code",
   "execution_count": null,
   "id": "ceade4a7-ad0e-4d8e-8feb-8ff64449ff25",
   "metadata": {},
   "outputs": [],
   "source": [
    "df['International plan']"
   ]
  },
  {
   "cell_type": "code",
   "execution_count": null,
   "id": "2b5e1970-6bf0-4550-a163-55936870b18b",
   "metadata": {},
   "outputs": [],
   "source": [
    "df[['State', 'International plan']]"
   ]
  },
  {
   "cell_type": "code",
   "execution_count": null,
   "id": "4ec7ecc4-545f-4ec2-87cb-9ad98a236293",
   "metadata": {},
   "outputs": [],
   "source": [
    "df.State.unique()"
   ]
  },
  {
   "cell_type": "code",
   "execution_count": null,
   "id": "379fa1ea-d460-435c-8fda-e1f1d35aca16",
   "metadata": {},
   "outputs": [],
   "source": [
    "df[df['International plan'] == 'No']"
   ]
  },
  {
   "cell_type": "code",
   "execution_count": null,
   "id": "d4c40e66-5410-4b14-bcd9-de6e503ae24a",
   "metadata": {},
   "outputs": [],
   "source": [
    "df[(df['International plan'] == 'No') & (df['Churn'] == 'No')]"
   ]
  },
  {
   "cell_type": "code",
   "execution_count": null,
   "id": "3b859e11-6123-470f-bac7-ff2aaa242c84",
   "metadata": {},
   "outputs": [],
   "source": [
    "df[(df['International plan'] == 'No') & (df['Churn'] == True)]"
   ]
  },
  {
   "cell_type": "code",
   "execution_count": null,
   "id": "42ea98ff-3c40-42b5-82b3-d8bd6dd3a10d",
   "metadata": {},
   "outputs": [],
   "source": [
    "df.iloc[14]"
   ]
  },
  {
   "cell_type": "code",
   "execution_count": null,
   "id": "d65fc562-0c67-4a14-aaad-72e5401cf6bf",
   "metadata": {},
   "outputs": [],
   "source": [
    "df.iloc[14,0]"
   ]
  },
  {
   "cell_type": "code",
   "execution_count": null,
   "id": "fc29316d-bb38-4fc3-9b0c-f8fb44bf7ae2",
   "metadata": {},
   "outputs": [],
   "source": [
    "df.iloc[14,-1]"
   ]
  },
  {
   "cell_type": "code",
   "execution_count": null,
   "id": "7fd70adf-7835-497a-b0f4-49d17760d489",
   "metadata": {},
   "outputs": [],
   "source": [
    "df.iloc[22:33]"
   ]
  },
  {
   "cell_type": "code",
   "execution_count": null,
   "id": "0f5f442f-7dc2-461d-8e0c-5afab6e8a40d",
   "metadata": {},
   "outputs": [],
   "source": [
    "state = df.copy()\n",
    "state.set_index('State', inplace=True)"
   ]
  },
  {
   "cell_type": "code",
   "execution_count": null,
   "id": "33c6a4ca-37ca-49df-bb6a-bdd40c213e87",
   "metadata": {},
   "outputs": [],
   "source": [
    "state.head()"
   ]
  },
  {
   "cell_type": "code",
   "execution_count": null,
   "id": "11c5ba29-5922-44b1-814c-fcc177451e0b",
   "metadata": {},
   "outputs": [],
   "source": [
    "state.loc['OH']"
   ]
  },
  {
   "cell_type": "code",
   "execution_count": null,
   "id": "10a7f3ff-e014-4bac-91e9-54691f2f92dc",
   "metadata": {},
   "outputs": [],
   "source": [
    "df.isnull().sum()"
   ]
  },
  {
   "cell_type": "code",
   "execution_count": null,
   "id": "00255222-0d9d-4893-9de9-f3d04f09f85d",
   "metadata": {},
   "outputs": [],
   "source": [
    "df.dropna(inplace=True)"
   ]
  },
  {
   "cell_type": "code",
   "execution_count": null,
   "id": "33a39c66-fe15-4065-b963-aa3c546b41f5",
   "metadata": {},
   "outputs": [],
   "source": [
    "df.drop('Area code', axis=1)"
   ]
  },
  {
   "cell_type": "code",
   "execution_count": null,
   "id": "db2add84-ee83-4fba-ad50-3b914d117834",
   "metadata": {},
   "outputs": [],
   "source": [
    "df['New Column'] = df['Total night minutes'] + df['Total intl minutes']"
   ]
  },
  {
   "cell_type": "code",
   "execution_count": null,
   "id": "21cb8641-fed4-4590-9345-9cd6ab7af3dc",
   "metadata": {},
   "outputs": [],
   "source": [
    "df.head()"
   ]
  },
  {
   "cell_type": "code",
   "execution_count": null,
   "id": "a1a394d0-818e-4289-883c-f627acd8073b",
   "metadata": {},
   "outputs": [],
   "source": [
    "df['New Column'] = 100"
   ]
  },
  {
   "cell_type": "code",
   "execution_count": null,
   "id": "58ca258c-3be5-4a23-b27e-9195a993f662",
   "metadata": {},
   "outputs": [],
   "source": [
    "df.iloc[0,-1] = 10"
   ]
  },
  {
   "cell_type": "code",
   "execution_count": null,
   "id": "b4f1b20e-48cc-435a-a805-59efe61dfa47",
   "metadata": {},
   "outputs": [],
   "source": [
    "df.head()"
   ]
  },
  {
   "cell_type": "code",
   "execution_count": null,
   "id": "8342852c-6811-41aa-a12b-c74782327bc0",
   "metadata": {},
   "outputs": [],
   "source": [
    "df['Churn Binary'] = df['Churn'].apply(lambda x: 1 if x==True else 0)"
   ]
  },
  {
   "cell_type": "code",
   "execution_count": null,
   "id": "4790e81f-9313-439d-8852-89c1557c7cd4",
   "metadata": {},
   "outputs": [],
   "source": [
    "df.head()"
   ]
  },
  {
   "cell_type": "code",
   "execution_count": null,
   "id": "a90e9053-bd5a-49f9-a574-0f54598c67b9",
   "metadata": {},
   "outputs": [],
   "source": [
    "df[df['Churn']==True].head()"
   ]
  },
  {
   "cell_type": "code",
   "execution_count": null,
   "id": "55943c63-a3aa-4352-9775-32922e9d9521",
   "metadata": {},
   "outputs": [],
   "source": [
    "df.to_csv('output.csv')"
   ]
  },
  {
   "cell_type": "code",
   "execution_count": null,
   "id": "786757e7-2726-45d2-9edb-82a1727cc7c1",
   "metadata": {},
   "outputs": [],
   "source": [
    "df.to_json()"
   ]
  },
  {
   "cell_type": "code",
   "execution_count": null,
   "id": "17eeb0f4-9bc8-4a34-b91b-aa87c2650419",
   "metadata": {},
   "outputs": [],
   "source": [
    "df.to_html()"
   ]
  },
  {
   "cell_type": "code",
   "execution_count": null,
   "id": "d723a7ba-fee3-4fb9-93b9-938c67e4c6d2",
   "metadata": {},
   "outputs": [],
   "source": [
    "del df"
   ]
  }
 ],
 "metadata": {
  "kernelspec": {
   "display_name": "anaconda-panel-2023.05-py310",
   "language": "python",
   "name": "conda-env-anaconda-panel-2023.05-py310-py"
  },
  "language_info": {
   "codemirror_mode": {
    "name": "ipython",
    "version": 3
   },
   "file_extension": ".py",
   "mimetype": "text/x-python",
   "name": "python",
   "nbconvert_exporter": "python",
   "pygments_lexer": "ipython3",
   "version": "3.11.5"
  }
 },
 "nbformat": 4,
 "nbformat_minor": 5
}
